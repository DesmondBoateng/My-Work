{
 "cells": [
  {
   "cell_type": "code",
   "execution_count": 4,
   "id": "d553b232",
   "metadata": {},
   "outputs": [],
   "source": [
    "import numpy as np\n",
    "import matplotlib.pyplot as plt\n"
   ]
  },
  {
   "cell_type": "code",
   "execution_count": 5,
   "id": "574bfb3e",
   "metadata": {},
   "outputs": [
    {
     "data": {
      "image/png": "[encoded data removed]",
      "text/plain": [
       "<Figure size 432x288 with 1 Axes>"
      ]
     },
     "metadata": {
      "needs_background": "light"
     },
     "output_type": "display_data"
    },
    {
     "data": {
      "text/plain": [
       "array([  0.        ,   9.14666667,  18.29332411, ..., 288.64884001,\n",
       "       288.64884001, 288.64884001])"
      ]
     },
     "execution_count": 5,
     "metadata": {},
     "output_type": "execute_result"
    }
   ],
   "source": [
    "t=np.zeros(1001)\n",
    "T=np.zeros(1001)\n",
    "t[0]=0\n",
    "T[0]=0\n",
    "S=1372\n",
    "alpha=0.3\n",
    "epsilon=0.61\n",
    "dt=1*10**(21)\n",
    "sigma=5.67*10**(-8)\n",
    "Cp=1.05*10**(23)\n",
    "for i in range(0,1000):\n",
    "    t[i+1]=(i+1)*dt\n",
    "    T[i+1]=T[i]+(dt/Cp)*S*(1-alpha)-(dt/Cp)*4*epsilon*sigma*((T[i]))**4\n",
    "plt.plot(T)\n",
    "plt.show()\n",
    "T"
   ]
  },
  {
   "cell_type": "code",
   "execution_count": 6,
   "id": "04045b4a",
   "metadata": {},
   "outputs": [
    {
     "data": {
      "text/plain": [
       "array([-283.40360719, -274.25694053, -265.11028308, ...,    5.24523281,\n",
       "          5.24523281,    5.24523281])"
      ]
     },
     "execution_count": 6,
     "metadata": {},
     "output_type": "execute_result"
    },
    {
     "data": {
      "image/png": "[encoded data removed]",
      "text/plain": [
       "<Figure size 432x288 with 1 Axes>"
      ]
     },
     "metadata": {
      "needs_background": "light"
     },
     "output_type": "display_data"
    }
   ],
   "source": [
    "Tmean=np.mean(T)\n",
    "Tanom=np.zeros(1001)\n",
    "Tanom=T-Tmean\n",
    "plt.plot(t,Tanom)\n",
    "Tanom"
   ]
  },
  {
   "cell_type": "code",
   "execution_count": 7,
   "id": "c6809b56",
   "metadata": {},
   "outputs": [
    {
     "data": {
      "image/png": "[encoded data removed]",
      "text/plain": [
       "<Figure size 432x288 with 1 Axes>"
      ]
     },
     "metadata": {
      "needs_background": "light"
     },
     "output_type": "display_data"
    }
   ],
   "source": [
    "plt.scatter(t, T)\n",
    "plt.show()"
   ]
  },
  {
   "cell_type": "code",
   "execution_count": 8,
   "id": "38e1501c",
   "metadata": {},
   "outputs": [
    {
     "data": {
      "text/plain": [
       "283.40360719253636"
      ]
     },
     "execution_count": 8,
     "metadata": {},
     "output_type": "execute_result"
    }
   ],
   "source": [
    "Tmean"
   ]
  },
  {
   "cell_type": "code",
   "execution_count": 9,
   "id": "90b4120d",
   "metadata": {},
   "outputs": [
    {
     "data": {
      "text/plain": [
       "array([-283.40360719, -274.25694053, -265.11028308, ...,    5.24523281,\n",
       "          5.24523281,    5.24523281])"
      ]
     },
     "execution_count": 9,
     "metadata": {},
     "output_type": "execute_result"
    }
   ],
   "source": [
    "Tanom"
   ]
  },
  {
   "cell_type": "code",
   "execution_count": null,
   "id": "1ff19e44",
   "metadata": {},
   "outputs": [],
   "source": []
  }
 ],
 "metadata": {
  "kernelspec": {
   "display_name": "Python 3 (ipykernel)",
   "language": "python",
   "name": "python3"
  },
  "language_info": {
   "codemirror_mode": {
    "name": "ipython",
    "version": 3
   },
   "file_extension": ".py",
   "mimetype": "text/x-python",
   "name": "python",
   "nbconvert_exporter": "python",
   "pygments_lexer": "ipython3",
   "version": "3.9.12"
  }
 },
 "nbformat": 4,
 "nbformat_minor": 5
}
