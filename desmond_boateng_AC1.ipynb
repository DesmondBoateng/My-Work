{
 "cells": [
  {
   "cell_type": "code",
   "execution_count": 1,
   "id": "a62b1f95",
   "metadata": {},
   "outputs": [],
   "source": [
    "import numpy as np\n",
    "import random\n",
    "import warnings\n",
    "warnings.filterwarnings('ignore')"
   ]
  },
  {
   "cell_type": "markdown",
   "id": "bba5c95e",
   "metadata": {},
   "source": [
    "**GREATEST COMMON DIVISOR**"
   ]
  },
  {
   "cell_type": "code",
   "execution_count": 2,
   "id": "45eb6271",
   "metadata": {},
   "outputs": [],
   "source": [
    "def mygcd(a,b):\n",
    "    x1=1\n",
    "    x2=0\n",
    "    y1=0\n",
    "    y2=1\n",
    "    while a%b!=0:\n",
    "        q=a//b\n",
    "        r=power_mod(a,1,b)\n",
    "        a=b\n",
    "        b=r\n",
    "        X=x1-y1*q\n",
    "        Y=x2-y2*q\n",
    "        x1=y1\n",
    "        y1=X\n",
    "        x2=y2\n",
    "        y2=Y    \n",
    "    return(b,y1,y2)"
   ]
  },
  {
   "cell_type": "code",
   "execution_count": 3,
   "id": "327fbcac",
   "metadata": {},
   "outputs": [
    {
     "data": {
      "text/plain": [
       "(105, 2, -67)"
      ]
     },
     "execution_count": 3,
     "metadata": {},
     "output_type": "execute_result"
    }
   ],
   "source": [
    "mygcd(17640,525)"
   ]
  },
  {
   "cell_type": "markdown",
   "id": "df0b426a",
   "metadata": {},
   "source": [
    "**INVERSE**"
   ]
  },
  {
   "cell_type": "code",
   "execution_count": 4,
   "id": "a9936739",
   "metadata": {},
   "outputs": [],
   "source": [
    "def inverse(a,n):\n",
    "    if mygcd(a,n)[0]==1:\n",
    "        u=mygcd(a,n)[1]\n",
    "        ubar=power_mod(u,1,n)\n",
    "        return ubar\n",
    "    return \"Doesn't have inverse\""
   ]
  },
  {
   "cell_type": "markdown",
   "id": "d9829e16",
   "metadata": {},
   "source": [
    "**EULER'S TOTIENT**"
   ]
  },
  {
   "cell_type": "code",
   "execution_count": 5,
   "id": "4cb26c6f",
   "metadata": {},
   "outputs": [],
   "source": [
    "def phi(n):\n",
    "    c=0\n",
    "    i=0\n",
    "    while i<n:\n",
    "        if mygcd(i,n)[0]==1:\n",
    "            c=c+1\n",
    "        i+=1\n",
    "    return c"
   ]
  },
  {
   "cell_type": "markdown",
   "id": "c07ee996",
   "metadata": {},
   "source": [
    "**RABIN MILLER TEST**"
   ]
  },
  {
   "cell_type": "code",
   "execution_count": 6,
   "id": "87889576",
   "metadata": {},
   "outputs": [],
   "source": [
    "def RabinMiller(n):\n",
    "    c=0\n",
    "    s=0\n",
    "    b=random.randint(2,n-1)\n",
    "    if mygcd(b,n)[0]>1:\n",
    "        return \"composite\"\n",
    "    else:\n",
    "        t=n-1\n",
    "        while power_mod(t,1,2)==0:\n",
    "            t=t//2\n",
    "            s=s+1\n",
    "        if power_mod(b,t,n)!=1:\n",
    "            c=1\n",
    "            for i in range(s):\n",
    "                if power_mod(b,(2**i)*t,n)!=(n-1):\n",
    "                    c=c+1\n",
    "        if c==s+1:\n",
    "            return \"composite\"\n",
    "        return \"inconclusive\""
   ]
  },
  {
   "cell_type": "markdown",
   "id": "9970dc44",
   "metadata": {},
   "source": [
    "**PRIMALITY TEST**"
   ]
  },
  {
   "cell_type": "code",
   "execution_count": 7,
   "id": "e04a5504",
   "metadata": {},
   "outputs": [],
   "source": [
    "def Primalitytest(n,k):\n",
    "    for i in range(k):\n",
    "        if RabinMiller(n)==\"composite\":\n",
    "            return \"composite\"\n",
    "        return \"Probably a prime\""
   ]
  },
  {
   "cell_type": "markdown",
   "id": "6ec70a52",
   "metadata": {},
   "source": [
    "**PRIME GENERATOR**"
   ]
  },
  {
   "cell_type": "code",
   "execution_count": 8,
   "id": "778a08a6",
   "metadata": {},
   "outputs": [],
   "source": [
    "def LargePrime(n,k=50):\n",
    "    y=2**(0.5*(n-1))\n",
    "    p=randint(ceil(y), floor(2**(0.5)*y))\n",
    "    while Primalitytest(p,k)!=\"Probably a prime\":\n",
    "         p=randint(ceil(y), floor(2**(0.5)*y))\n",
    "    return p"
   ]
  },
  {
   "cell_type": "code",
   "execution_count": 9,
   "id": "0ec1524b",
   "metadata": {},
   "outputs": [
    {
     "data": {
      "text/plain": [
       "'Probably a prime'"
      ]
     },
     "execution_count": 9,
     "metadata": {},
     "output_type": "execute_result"
    }
   ],
   "source": [
    "Primalitytest(103,50)"
   ]
  },
  {
   "cell_type": "code",
   "execution_count": 10,
   "id": "26cf6713",
   "metadata": {},
   "outputs": [
    {
     "data": {
      "text/plain": [
       "9766281412357698495064945799451544872109876873138497543291630137512878926418912425754408295026171926685954900972944877323477205718638664913550171582522877"
      ]
     },
     "execution_count": 10,
     "metadata": {},
     "output_type": "execute_result"
    }
   ],
   "source": [
    "LargePrime(1024)"
   ]
  },
  {
   "cell_type": "markdown",
   "id": "9f4ad8fb",
   "metadata": {},
   "source": [
    "**KEY GENERATOR**"
   ]
  },
  {
   "cell_type": "code",
   "execution_count": 11,
   "id": "3ad4df2b",
   "metadata": {},
   "outputs": [],
   "source": [
    "def keygenerate(n):\n",
    "    p=LargePrime(n)\n",
    "    q=LargePrime(n)\n",
    "    phiN=(p-1)*(q-1)\n",
    "    while p!=q:\n",
    "        N=p*q\n",
    "        e=randint(2, phiN-1)\n",
    "        if mygcd(e,phiN)[0]==1:\n",
    "            break \n",
    "    d=inverse(e,N)\n",
    "    pk=(N,e)\n",
    "    sk=(p,q,phiN,d)\n",
    "    return pk,sk   "
   ]
  },
  {
   "cell_type": "markdown",
   "id": "2f2696ca",
   "metadata": {},
   "source": [
    "**ENCRYPTION**"
   ]
  },
  {
   "cell_type": "code",
   "execution_count": 12,
   "id": "7758098c",
   "metadata": {},
   "outputs": [],
   "source": [
    "def Encrypt(x,pk):\n",
    "    N=pk[0]\n",
    "    e=pk[1]\n",
    "    y=power_mod(x,e,N)\n",
    "    return y"
   ]
  },
  {
   "cell_type": "markdown",
   "id": "8a9472fb",
   "metadata": {},
   "source": [
    "**DECRYPTION**"
   ]
  },
  {
   "cell_type": "code",
   "execution_count": 13,
   "id": "ef34b705",
   "metadata": {},
   "outputs": [],
   "source": [
    "def Decrypt(y,sk):\n",
    "    p=sk[0]\n",
    "    q=sk[1]\n",
    "    d=sk[3]\n",
    "    N=p*q\n",
    "    z=power_mod(y,d,N)\n",
    "    return z"
   ]
  },
  {
   "cell_type": "markdown",
   "id": "a6f25255",
   "metadata": {},
   "source": [
    "**EXERCISE 1,(4)**"
   ]
  },
  {
   "cell_type": "code",
   "execution_count": 14,
   "id": "b962507d",
   "metadata": {},
   "outputs": [
    {
     "data": {
      "text/plain": [
       "[35, 39, 45, 52, 56, 70, 72, 78, 84, 90]"
      ]
     },
     "execution_count": 14,
     "metadata": {},
     "output_type": "execute_result"
    }
   ],
   "source": [
    "x=[]\n",
    "for i in range(1,1000):\n",
    "    if phi(i)==24:\n",
    "        x.append(i)\n",
    "x"
   ]
  },
  {
   "cell_type": "markdown",
   "id": "ba475942",
   "metadata": {},
   "source": [
    "**EXERCISE 2**"
   ]
  },
  {
   "cell_type": "code",
   "execution_count": 15,
   "id": "a9d61bb8",
   "metadata": {},
   "outputs": [],
   "source": [
    "Mersenne=[((2**i)-1) for i in range(2,1025) if factor(i)[0][0]==i]\n",
    "N=23705664828679018910727857380010466581421592928409872469325703617631771110069795968557199076070369213289376898389944735544892317053786376370799208582883810697459113749844946826641821898540561333219729436814792543369180840218727855470894841887422055476227683396829087248884758048537181024004601389942391909876756259491\n",
    "x=[]\n",
    "for p in Mersenne:\n",
    "    if mod(N,p)==0:\n",
    "        x.append(p)\n",
    "x\n",
    "p=x[0]\n",
    "q=N//p\n",
    "phiN=(p-1)*(q-1)\n",
    "e=65537\n",
    "d=inverse(e,phiN)\n",
    "sk=(p,q,phiN,d)  "
   ]
  },
  {
   "cell_type": "code",
   "execution_count": 16,
   "id": "5937346e",
   "metadata": {},
   "outputs": [
    {
     "data": {
      "text/plain": [
       "1128111811121119241100241118113625001929110014192335001911241125001611281116111811211522192435"
      ]
     },
     "execution_count": 16,
     "metadata": {},
     "output_type": "execute_result"
    }
   ],
   "source": [
    "y=20211759043626737649849484242721820807367386205602051889392340800322880642353734048396708562040807995279484274610879853718107726223500679032373295601458267292420686387173388320151704861160697624321587449473976860322732152542219806060975723222729130520152145536473212127574510353953706961449174619764961296291397775292\n",
    "Decrypt(y,sk)"
   ]
  },
  {
   "cell_type": "code",
   "execution_count": 17,
   "id": "39e169d4",
   "metadata": {},
   "outputs": [
    {
     "data": {
      "text/plain": [
       "'ARAHABAINANAHAZOISADIMYIANAOFARAFAHAKELINY'"
      ]
     },
     "execution_count": 17,
     "metadata": {},
     "output_type": "execute_result"
    }
   ],
   "source": [
    "def TranslateRSA(n):\n",
    "    pl=\"\"\n",
    "    num2words={00:\"\", 11:\"A\", 12: 'B', 13: 'C', 14: 'D', \\\n",
    "            15: 'E', 16: 'F', 17: 'G', 18: 'H', 19: 'I', \\\n",
    "            20: 'J', 21: 'K', 22: 'L', 23: 'M', \\\n",
    "            24: 'N', 25: 'O', 26: 'P', 27: 'Q', 28: 'R',\\\n",
    "            29:'S',30:'T', 31: 'U', 32: 'V', 33:'W', 34: 'X', 35:'Y',36:'Z'}\n",
    "    while len(str(n))>1:\n",
    "        s=n%100\n",
    "        c=num2words[s]\n",
    "        pl=c+pl\n",
    "        n=n//100\n",
    "    return pl\n",
    "n=Decrypt(y,sk)\n",
    "TranslateRSA(n)"
   ]
  },
  {
   "cell_type": "markdown",
   "id": "121fa07e",
   "metadata": {},
   "source": [
    "**EXERCISE 3**\n",
    "\n",
    "\n",
    "Creating a public key and private key for n>1024."
   ]
  },
  {
   "cell_type": "code",
   "execution_count": 18,
   "id": "0d9dfc49",
   "metadata": {},
   "outputs": [],
   "source": [
    "Keys=keygenerate(2048)\n",
    "PublicKey=Keys[0]\n",
    "PrivateKey=Keys[1]"
   ]
  },
  {
   "cell_type": "code",
   "execution_count": 19,
   "id": "c1d1f6fa",
   "metadata": {},
   "outputs": [
    {
     "data": {
      "text/plain": [
       "(22444031907874780320981965065286559737343563273865691155478657762776194914836580152588857957296531952876966391204573115598559911100548693725611714938562673714250353080044540922228109966283928418166876008686218932221725380319744450548096252124124521997973687642396123472974207162620544827639018745805424241548829137891266480012553272770738330504055564280794566671727137208731386408952864031164236549314299487387022215373571440563926512208262006830957042769210774346805177585885217873864603045934894223192192044526699768839979731818777565473676440597831831349275862583987940236983593032198038820515973112513561794134141,\n",
       " 10057014086120727003175847163372416368865671998266129277202009863550119989838983717997739347977525507747549337970424980502745680421773590008946033860285833445805461685732769404891449193240582788874508220772880070437229384040218718450761844404648995899133966447653692989117112104230819884707304130151000996958300071390557550110068626589492316287456142504785029478641917201013839363717686361864123450573222513633143808360827095445384479777683608596431696015518068482660309887271953366687115544280055436853572419039865070355347882794797593348949164678546916790088399391511351847269429610064212359740968589657626208548341)"
      ]
     },
     "execution_count": 19,
     "metadata": {},
     "output_type": "execute_result"
    }
   ],
   "source": [
    "PublicKey"
   ]
  },
  {
   "cell_type": "code",
   "execution_count": 20,
   "id": "a4e139a5",
   "metadata": {},
   "outputs": [
    {
     "data": {
      "text/plain": [
       "(132210090213466188656748041392390927864559073415611753593953907331070180183320398804702676331854037410164637649316086398123213945938771351997773484231137996738767486410404532166820500015311588439218850407710100288221683349925654458238940342722257505471084079667599099058442774138949692503732364215932993358009,\n",
       " 169760355443647941389432601242046382987386288161560633624843272756721470091794575009612294479168422282672464214712179875996368454648253492800786068866520062090985838993923087256833024220524657059436836139953462028219028357960972160237096606340079157295665769047718446247155808767161840542460855889162066021349,\n",
       " 22444031907874780320981965065286559737343563273865691155478657762776194914836580152588857957296531952876966391204573115598559911100548693725611714938562673714250353080044540922228109966283928418166876008686218932221725380319744450548096252124124521997973687642396123472974207162620544827639018745805424241548527167445609365882507092128103893193203618919217394284508340028643594758677749057349921578503277027694185113509543174289806929807674981986158483216113116287975424260480890254440949521699057977693536357979036206523539020110890938855200403648769494686509112735272622691677994449291927287469779892408466734754784,\n",
       " 14675670402477711107897442583507440686456636468193262061857994588951727687037382335539360994793579990024224629923165149566149981976705442491744294192771090020033139112576069109747378144490858029439455945239464451740699932256103304272725619305747694672312495398889803748066971595572474604734615326246177977925332066317353834292872115100298130582313941271087469033011243652205949952051717311357671713221546557985106924065062702148063130914537794954163557003217649757456491710255998459635806137290846498675332030407904401286713063312343314197515340199225298735150685438811060437015174580030544532360956665021387464745359)"
      ]
     },
     "execution_count": 20,
     "metadata": {},
     "output_type": "execute_result"
    }
   ],
   "source": [
    "PrivateKey"
   ]
  },
  {
   "cell_type": "code",
   "execution_count": 21,
   "id": "9d25d3b9",
   "metadata": {},
   "outputs": [
    {
     "data": {
      "text/plain": [
       "100"
      ]
     },
     "execution_count": 21,
     "metadata": {},
     "output_type": "execute_result"
    }
   ],
   "source": [
    "#int(str(100).zfill(666))"
   ]
  }
 ],
 "metadata": {
  "kernelspec": {
   "display_name": "SageMath 9.7",
   "language": "sage",
   "name": "sagemath-9.7"
  },
  "language_info": {
   "codemirror_mode": {
    "name": "ipython",
    "version": 3
   },
   "file_extension": ".py",
   "mimetype": "text/x-python",
   "name": "python",
   "nbconvert_exporter": "python",
   "pygments_lexer": "ipython3",
   "version": "3.10.5"
  }
 },
 "nbformat": 4,
 "nbformat_minor": 5
}
